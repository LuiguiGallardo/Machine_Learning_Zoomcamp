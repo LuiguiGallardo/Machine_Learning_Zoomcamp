{
 "cells": [
  {
   "cell_type": "markdown",
   "metadata": {},
   "source": [
    "# Session #1 Homework\n",
    "Set up the environment\n",
    "You need to install Python, NumPy, Pandas, Matplotlib and Seaborn. For that, you can the instructions from 06-environment.md.\n",
    "\n",
    "## Question 1\n",
    "What's the version of NumPy that you installed?\n",
    "\n",
    "You can get the version information using the __version__ field:"
   ]
  },
  {
   "cell_type": "code",
   "execution_count": 87,
   "metadata": {},
   "outputs": [
    {
     "name": "stdout",
     "output_type": "stream",
     "text": [
      "My version of numpy is  1.21.2\n"
     ]
    }
   ],
   "source": [
    "import pandas as pd\n",
    "import numpy as np\n",
    "import matplotlib as plt\n",
    "import seaborn as sns\n",
    "\n",
    "print(\"My version of numpy is \", np.__version__)"
   ]
  },
  {
   "cell_type": "markdown",
   "metadata": {},
   "source": [
    "## Getting the data\n",
    "For this homework, we'll use the Car price dataset. Download it from here.\n",
    "\n",
    "You can do it with wget:\n",
    "\n",
    "wget https://raw.githubusercontent.com/alexeygrigorev/mlbookcamp-code/master/chapter-02-car-price/data.csv\n",
    "Or just open it with your browser and click \"Save as...\".\n",
    "\n",
    "Now read it with Pandas.\n",
    "\n",
    "## Question 2\n",
    "How many records are in the dataset?\n",
    "\n",
    "Here you need to specify the number of rows.\n",
    "\n",
    "- 11914"
   ]
  },
  {
   "cell_type": "code",
   "execution_count": 88,
   "metadata": {},
   "outputs": [
    {
     "name": "stdout",
     "output_type": "stream",
     "text": [
      "The number of rows is  11914\n"
     ]
    }
   ],
   "source": [
    "data = pd.read_csv('./data.csv')\n",
    "\n",
    "print(\"The number of rows is \", data.shape[0])"
   ]
  },
  {
   "cell_type": "markdown",
   "metadata": {},
   "source": [
    "## Question 3\n",
    "Who are the most frequent car manufacturers (top-3) according to the dataset?\n",
    "\n",
    "Chevrolet, Volkswagen, Toyota\n",
    "Chevrolet, Ford, Toyota\n",
    "Ford, Volkswagen, Toyota\n",
    "Chevrolet, Ford, Volkswagen"
   ]
  },
  {
   "cell_type": "code",
   "execution_count": 89,
   "metadata": {},
   "outputs": [
    {
     "name": "stdout",
     "output_type": "stream",
     "text": [
      "The principal car manufacturers are:\n",
      " Chevrolet     1123\n",
      "Ford           881\n",
      "Volkswagen     809\n",
      "Name: Make, dtype: int64\n"
     ]
    }
   ],
   "source": [
    "count_cars_maker = data['Make'].value_counts()\n",
    "\n",
    "print(\"The principal car manufacturers are:\\n\", count_cars_maker.head(3))"
   ]
  },
  {
   "cell_type": "markdown",
   "metadata": {},
   "source": [
    "## Question 4\n",
    "What's the number of unique Audi car models in the dataset?\n",
    "\n",
    "34"
   ]
  },
  {
   "cell_type": "code",
   "execution_count": 90,
   "metadata": {},
   "outputs": [
    {
     "name": "stdout",
     "output_type": "stream",
     "text": [
      "Unique Audi car models is  34\n"
     ]
    }
   ],
   "source": [
    "audi_cars_only = data.loc[data['Make'] == 'Audi']\n",
    "count_audi_models = audi_cars_only['Model'].unique()\n",
    "\n",
    "print(\"Unique Audi car models is \", len(count_audi_models))"
   ]
  },
  {
   "cell_type": "markdown",
   "metadata": {},
   "source": [
    "## Question 5\n",
    "How many columns in the dataset have missing values?\n"
   ]
  },
  {
   "cell_type": "code",
   "execution_count": 91,
   "metadata": {},
   "outputs": [
    {
     "name": "stdout",
     "output_type": "stream",
     "text": [
      "The number of columns with na is 5 Make                    0\n",
      "Model                   0\n",
      "Year                    0\n",
      "Transmission Type       0\n",
      "Driven_Wheels           0\n",
      "Vehicle Size            0\n",
      "Vehicle Style           0\n",
      "highway MPG             0\n",
      "city mpg                0\n",
      "Popularity              0\n",
      "MSRP                    0\n",
      "Engine Fuel Type        3\n",
      "Number of Doors         6\n",
      "Engine Cylinders       30\n",
      "Engine HP              69\n",
      "Market Category      3742\n",
      "dtype: int64\n"
     ]
    }
   ],
   "source": [
    "number_of_na = data.isnull().sum().sort_values()\n",
    "\n",
    "print(\"The number of columns with na is 5\", number_of_na)"
   ]
  },
  {
   "cell_type": "markdown",
   "metadata": {},
   "source": [
    "## Question 6\n",
    "\n",
    "Find the median value of \"Engine Cylinders\" column in the dataset.\n",
    "\n",
    "Next, calculate the most frequent value of the same \"Engine Cylinders\".\n",
    "\n",
    "Use the fillna method to fill the missing values in \"Engine Cylinders\" with the most frequent value from the previous step.\n",
    "\n",
    "Now, calculate the median value of \"Engine Cylinders\" once again.\n",
    "\n",
    "Has it changed?\n",
    "\n",
    "No"
   ]
  },
  {
   "cell_type": "code",
   "execution_count": 92,
   "metadata": {},
   "outputs": [
    {
     "name": "stdout",
     "output_type": "stream",
     "text": [
      "The median engine cylinders is  6.0\n",
      "The mode engine cylinders is  0    4.0\n",
      "Name: Engine Cylinders, dtype: float64\n",
      "The mode engine cylinders is  6.0\n"
     ]
    }
   ],
   "source": [
    "median_engine_cyl = data['Engine Cylinders'].median()\n",
    "\n",
    "print('The median engine cylinders is ', median_engine_cyl)\n",
    "\n",
    "mode_engine_cyl = data['Engine Cylinders'].mode()\n",
    "\n",
    "print('The mode engine cylinders is ', mode_engine_cyl)\n",
    "\n",
    "new_data = data.fillna(value = 4.0)\n",
    "\n",
    "new_median_engine_cyl = new_data['Engine Cylinders'].median()\n",
    "\n",
    "print('The mode engine cylinders is ', new_median_engine_cyl)\n"
   ]
  },
  {
   "cell_type": "markdown",
   "metadata": {},
   "source": [
    "## Question 7\n",
    "\n",
    "Select all the \"Lotus\" cars from the dataset.\n",
    "\n",
    "Select only columns \"Engine HP\", \"Engine Cylinders\".\n",
    "\n",
    "Now drop all duplicated rows using drop_duplicates method (you should get a dataframe with 9 rows).\n",
    "\n",
    "Get the underlying NumPy array. Let's call it X.\n",
    "\n",
    "Compute matrix-matrix multiplication between the transpose of X and X. To get the transpose, use X.T. Let's call the result XTX.\n",
    "\n",
    "Invert XTX.\n",
    "\n",
    "Create an array y with values [1100, 800, 750, 850, 1300, 1000, 1000, 1300, 800].\n",
    "\n",
    "Multiply the inverse of XTX with the transpose of X, and then multiply the result by y. Call the result w.\n",
    "\n",
    "What's the value of the first element of w?"
   ]
  },
  {
   "cell_type": "code",
   "execution_count": 124,
   "metadata": {},
   "outputs": [
    {
     "name": "stdout",
     "output_type": "stream",
     "text": [
      "The value of the first element of w is  4.5949448100945744\n"
     ]
    }
   ],
   "source": [
    "lotus_cars_only = data.loc[data['Make'] == 'Lotus']\n",
    "\n",
    "lotus_cars_only_filt = lotus_cars_only[['Engine HP', 'Engine Cylinders']]\n",
    "\n",
    "lotus_cars_only_filt_2 = lotus_cars_only_filt.drop_duplicates()\n",
    "\n",
    "X = lotus_cars_only_filt_2.to_numpy()\n",
    "\n",
    "XT = X.T\n",
    "\n",
    "XTX = np.dot(XT, X)\n",
    "\n",
    "XTX_invert = np.linalg.inv(XTX)\n",
    "\n",
    "y = np.array([1100, 800, 750, 850, 1300, 1000, 1000, 1300, 800])\n",
    "\n",
    "w = np.dot(np.dot(XTX_invert, XT), y)\n",
    "\n",
    "print(\"The value of the first element of w is \", w[0])\n"
   ]
  },
  {
   "cell_type": "markdown",
   "metadata": {},
   "source": []
  }
 ],
 "metadata": {
  "kernelspec": {
   "display_name": "Python 3.8.9 64-bit",
   "language": "python",
   "name": "python3"
  },
  "language_info": {
   "codemirror_mode": {
    "name": "ipython",
    "version": 3
   },
   "file_extension": ".py",
   "mimetype": "text/x-python",
   "name": "python",
   "nbconvert_exporter": "python",
   "pygments_lexer": "ipython3",
   "version": "3.8.9"
  },
  "orig_nbformat": 4,
  "vscode": {
   "interpreter": {
    "hash": "31f2aee4e71d21fbe5cf8b01ff0e069b9275f58929596ceb00d14d90e3e16cd6"
   }
  }
 },
 "nbformat": 4,
 "nbformat_minor": 2
}
